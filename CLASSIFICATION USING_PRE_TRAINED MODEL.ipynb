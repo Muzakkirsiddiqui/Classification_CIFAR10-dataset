{
  "nbformat": 4,
  "nbformat_minor": 0,
  "metadata": {
    "colab": {
      "name": "aditiya _interview.ipynb",
      "provenance": [],
      "collapsed_sections": []
    },
    "kernelspec": {
      "name": "python3",
      "display_name": "Python 3"
    },
    "language_info": {
      "name": "python"
    }
  },
  "cells": [
    {
      "cell_type": "markdown",
      "source": [
        "# ***CLASSIFICATION ON CIFAR 10 USING PRE_TRAINED MODEL***"
      ],
      "metadata": {
        "id": "tL3dO573hTfN"
      }
    },
    {
      "cell_type": "code",
      "source": [
        "#Importing LIbraries\n",
        "from keras.datasets import cifar10\n",
        "import numpy as np\n",
        "import matplotlib.pyplot as plt\n",
        "import tensorflow\n",
        "import keras\n",
        "from keras.layers import Dense\n",
        "from keras.layers import MaxPool2D,MaxPooling2D\n",
        "from keras.layers import Conv2D\n",
        "from keras.layers import Flatten\n",
        "from keras.utils import np_utils\n",
        "from keras.layers import Dropout\n",
        "from keras.optimizers import *\n",
        "from keras.models import Sequential\n",
        "from keras.layers import Activation\n",
        "from keras.optimizers import gradient_descent_v2\n",
        "from tensorflow.keras.utils import to_categorical\n",
        "from keras.preprocessing.image import ImageDataGenerator\n",
        "import cv2\n"
      ],
      "metadata": {
        "id": "azimwA0x0qTE"
      },
      "execution_count": 37,
      "outputs": []
    },
    {
      "cell_type": "code",
      "source": [
        "batch_size=32\n",
        "epoch=1\n",
        "num_classes=10\n",
        "learning_rate=1e-4\n",
        "momentum=0.9"
      ],
      "metadata": {
        "id": "2DJjta9ITTp4"
      },
      "execution_count": 23,
      "outputs": []
    },
    {
      "cell_type": "code",
      "source": [
        "#we import scipy to resize our images quickly\n",
        "import scipy.misc\n",
        "import numpy as np\n",
        "\n",
        "(x_train,y_train),(x_test,y_test)=cifar10.load_data()\n",
        "x_train=np.array([cv2.resize(x,(48,48),interpolation=cv2.INTER_AREA) for x in x_train])\n",
        "x_test=np.array([cv2.resize(x,(48,48),interpolation=cv2.INTER_AREA) for x in x_test])"
      ],
      "metadata": {
        "id": "S0ytn0BtTmg1"
      },
      "execution_count": 39,
      "outputs": []
    },
    {
      "cell_type": "markdown",
      "source": [
        ""
      ],
      "metadata": {
        "id": "Dx65opulhSa0"
      }
    },
    {
      "cell_type": "code",
      "source": [
        "#OneHot For Y_train and Y_test\n",
        "num_classes=10\n",
        "y_train = tensorflow.keras.utils.to_categorical(y_train, num_classes)\n",
        "y_test =  tensorflow.keras.utils.to_categorical(y_test, num_classes)\n",
        "\n",
        "print(y_train.shape)\n",
        "print(y_test.shape)"
      ],
      "metadata": {
        "colab": {
          "base_uri": "https://localhost:8080/"
        },
        "id": "lNKH4DGBXP8E",
        "outputId": "89e4f98c-4493-4e3d-c1ff-fceef9471cf8"
      },
      "execution_count": 40,
      "outputs": [
        {
          "output_type": "stream",
          "name": "stdout",
          "text": [
            "(50000, 10)\n",
            "(10000, 10)\n"
          ]
        }
      ]
    },
    {
      "cell_type": "markdown",
      "source": [
        "# **import our pre_trained Model But without the 'Head' Layer**"
      ],
      "metadata": {
        "id": "Ex9KDOwedp6k"
      }
    },
    {
      "cell_type": "code",
      "source": [
        "base_model=vgg.VGG16(weights='imagenet',include_top=False,input_shape=(48,48,3))"
      ],
      "metadata": {
        "id": "i4Bwja-EXl29"
      },
      "execution_count": 41,
      "outputs": []
    },
    {
      "cell_type": "code",
      "source": [
        "#extract the last layer from third block of vgg16 model\n",
        "last=base_model.get_layer('block3_pool').output"
      ],
      "metadata": {
        "id": "KujOhcdWX9T1"
      },
      "execution_count": 42,
      "outputs": []
    },
    {
      "cell_type": "code",
      "source": [
        "#Add Classification layer on top of it\n",
        "#x is our model that we are puting on top part of our pre_trained  model \n",
        "x=GlobalAveragePooling2D()(last)\n",
        "x=BatchNormalization()(x)\n",
        "x=Dense(256,activation='relu')(x)\n",
        "x=Dense(256,activation='relu')(x)\n",
        "x=Dropout(0.5)(x)\n",
        "\n",
        "#we make our top model\n",
        "number_of_classes=10\n",
        "top=Dense(num_classes,activation='softmax')(x)\n",
        "\n"
      ],
      "metadata": {
        "id": "gxAdLvlMYIMj"
      },
      "execution_count": 43,
      "outputs": []
    },
    {
      "cell_type": "code",
      "source": [
        " #construct our full model\n",
        " model =keras.Model(inputs=base_model.inputs,outputs=top)\n"
      ],
      "metadata": {
        "id": "j39oyoSWZUbY"
      },
      "execution_count": 44,
      "outputs": []
    },
    {
      "cell_type": "code",
      "source": [
        "  #now we just iterrate through our base model to  'freez' the layers so that we dont train them \n",
        "  for layer in base_model.layers:\n",
        "        layer.trainable = False"
      ],
      "metadata": {
        "id": "HGNzp2W4a9L1"
      },
      "execution_count": 45,
      "outputs": []
    },
    {
      "cell_type": "code",
      "source": [
        "#lets compile our merged model\n",
        "model.compile(optimizer='Adam', loss='binary_crossentropy',\n",
        "                 metrics=['accuracy'])"
      ],
      "metadata": {
        "id": "PgOIav2rbWB6"
      },
      "execution_count": 46,
      "outputs": []
    },
    {
      "cell_type": "code",
      "source": [
        "model.summary()"
      ],
      "metadata": {
        "colab": {
          "base_uri": "https://localhost:8080/"
        },
        "id": "K5LDhyDdbmHg",
        "outputId": "d74a6f63-e25a-45e6-bc37-6b355e516ea9"
      },
      "execution_count": 47,
      "outputs": [
        {
          "output_type": "stream",
          "name": "stdout",
          "text": [
            "Model: \"model_2\"\n",
            "_________________________________________________________________\n",
            " Layer (type)                Output Shape              Param #   \n",
            "=================================================================\n",
            " input_3 (InputLayer)        [(None, 48, 48, 3)]       0         \n",
            "                                                                 \n",
            " block1_conv1 (Conv2D)       (None, 48, 48, 64)        1792      \n",
            "                                                                 \n",
            " block1_conv2 (Conv2D)       (None, 48, 48, 64)        36928     \n",
            "                                                                 \n",
            " block1_pool (MaxPooling2D)  (None, 24, 24, 64)        0         \n",
            "                                                                 \n",
            " block2_conv1 (Conv2D)       (None, 24, 24, 128)       73856     \n",
            "                                                                 \n",
            " block2_conv2 (Conv2D)       (None, 24, 24, 128)       147584    \n",
            "                                                                 \n",
            " block2_pool (MaxPooling2D)  (None, 12, 12, 128)       0         \n",
            "                                                                 \n",
            " block3_conv1 (Conv2D)       (None, 12, 12, 256)       295168    \n",
            "                                                                 \n",
            " block3_conv2 (Conv2D)       (None, 12, 12, 256)       590080    \n",
            "                                                                 \n",
            " block3_conv3 (Conv2D)       (None, 12, 12, 256)       590080    \n",
            "                                                                 \n",
            " block3_pool (MaxPooling2D)  (None, 6, 6, 256)         0         \n",
            "                                                                 \n",
            " global_average_pooling2d_2   (None, 256)              0         \n",
            " (GlobalAveragePooling2D)                                        \n",
            "                                                                 \n",
            " batch_normalization_2 (Batc  (None, 256)              1024      \n",
            " hNormalization)                                                 \n",
            "                                                                 \n",
            " dense_6 (Dense)             (None, 256)               65792     \n",
            "                                                                 \n",
            " dense_7 (Dense)             (None, 256)               65792     \n",
            "                                                                 \n",
            " dropout_2 (Dropout)         (None, 256)               0         \n",
            "                                                                 \n",
            " dense_8 (Dense)             (None, 10)                2570      \n",
            "                                                                 \n",
            "=================================================================\n",
            "Total params: 1,870,666\n",
            "Trainable params: 134,666\n",
            "Non-trainable params: 1,736,000\n",
            "_________________________________________________________________\n"
          ]
        }
      ]
    },
    {
      "cell_type": "code",
      "source": [
        "#prepare Data augumentation\n",
        "train_datagen = ImageDataGenerator(\n",
        "        rescale=1./255,\n",
        "        horizontal_flip=False)\n",
        "train_datagen.fit(x_train)\n",
        "train_generator = train_datagen.flow(x_train,y_train,batch_size=32)\n",
        "\n",
        "\n",
        "\n",
        "validation_datagen = ImageDataGenerator(\n",
        "        rescale=1./255,\n",
        "        horizontal_flip=False)\n",
        "validation_datagen.fit(x_test)\n",
        "\n",
        "validation_generator = validation_datagen.flow(x_test,y_test,batch_size=32)\n",
        "\n"
      ],
      "metadata": {
        "id": "SoaFBix4bsFC"
      },
      "execution_count": 49,
      "outputs": []
    },
    {
      "cell_type": "markdown",
      "source": [
        "# **Training our Model**"
      ],
      "metadata": {
        "id": "-RHexoTSdWDU"
      }
    },
    {
      "cell_type": "code",
      "source": [
        "train_step_per_epoch=x_train.shape[0] // batch_size\n",
        "validation_per_epoch=x_test.shape[0] // batch_size\n",
        "\n",
        "history=model.fit(train_generator,steps_per_epoch=train_step_per_epoch,validation_data=validation_generator,validation_steps=validation_per_epoch,\n",
        "                  epochs=3,verbose=1)\n",
        "                  \n",
        "                  "
      ],
      "metadata": {
        "colab": {
          "base_uri": "https://localhost:8080/"
        },
        "id": "aHtzfkn4e8p7",
        "outputId": "bbb2f13a-6062-4293-e349-13055dd99632"
      },
      "execution_count": 50,
      "outputs": [
        {
          "output_type": "stream",
          "name": "stdout",
          "text": [
            "Epoch 1/3\n",
            "1562/1562 [==============================] - 701s 449ms/step - loss: 0.1877 - accuracy: 0.6035 - val_loss: 0.1424 - val_accuracy: 0.6955\n",
            "Epoch 2/3\n",
            "1562/1562 [==============================] - 688s 440ms/step - loss: 0.1512 - accuracy: 0.6851 - val_loss: 0.1337 - val_accuracy: 0.7132\n",
            "Epoch 3/3\n",
            "1562/1562 [==============================] - 689s 441ms/step - loss: 0.1397 - accuracy: 0.7095 - val_loss: 0.1269 - val_accuracy: 0.7342\n"
          ]
        }
      ]
    },
    {
      "cell_type": "code",
      "source": [
        "model.save(\"Cifar10_vgg16.h5\") "
      ],
      "metadata": {
        "id": "QgGQrTnRcZgS"
      },
      "execution_count": 35,
      "outputs": []
    }
  ]
}